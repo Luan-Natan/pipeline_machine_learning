{
 "cells": [
  {
   "cell_type": "markdown",
   "id": "a185b571",
   "metadata": {},
   "source": [
    "# TREINAMENTO DE UM MODELO DE DADOS"
   ]
  },
  {
   "cell_type": "markdown",
   "id": "b8e8c4dc",
   "metadata": {},
   "source": [
    "# Primeiras configurações\n",
    "\n",
    "Realizar imports necessários para a execução do código."
   ]
  },
  {
   "cell_type": "code",
   "execution_count": null,
   "id": "fae6abdb",
   "metadata": {},
   "outputs": [],
   "source": [
    "import pandas as pd\n",
    "import numpy as np\n",
    "import matplotlib.pyplot as plt\n",
    "\n",
    "import os\n",
    "import io\n",
    "import boto3\n",
    "import sagemaker\n",
    "\n",
    "from sklearn.model_selection import train_test_split\n",
    "from sagemaker.image_uris import retrieve\n",
    "from sklearn.metrics import confusion_matrix, roc_curve, auc"
   ]
  },
  {
   "cell_type": "markdown",
   "id": "b7013756",
   "metadata": {},
   "source": [
    "## Conjunto de dados\n",
    "\n",
    "O dataset relaciona primeiros nomes a gêneros, fornecendo tanto a quantidade de ocorrências quanto a probabilidade de um nome pertencer a um gênero específico. Ele combina dados abertos de fontes governamentais de Estados Unidos, Reino Unido, Canadá e Austrália.\n",
    "\n",
    "As informações do dataset foram consolidadas a partir de contagens brutas de nomes dados a bebês do sexo masculino e feminino em diferentes períodos históricos, permitindo calcular a probabilidade de um nome ser masculino ou feminino com base na contagem agregada."
   ]
  },
  {
   "cell_type": "markdown",
   "id": "fee789d5",
   "metadata": {},
   "source": [
    "Importar dataset e exibir características gerais do mesmo."
   ]
  },
  {
   "cell_type": "code",
   "execution_count": null,
   "id": "4a8e8e74",
   "metadata": {},
   "outputs": [],
   "source": [
    "url = \"https://archive.ics.uci.edu/static/public/591/data.csv\"\n",
    "dataset = pd.read_csv(url)"
   ]
  },
  {
   "cell_type": "markdown",
   "id": "0ad449fd",
   "metadata": {},
   "source": [
    "- **Quantidade de dados/Número de features**"
   ]
  },
  {
   "cell_type": "code",
   "execution_count": null,
   "id": "cb8507fc",
   "metadata": {},
   "outputs": [],
   "source": [
    "dataset.shape"
   ]
  },
  {
   "cell_type": "markdown",
   "id": "786d2435",
   "metadata": {},
   "source": [
    "- **Informações das features**"
   ]
  },
  {
   "cell_type": "code",
   "execution_count": null,
   "id": "10ddfd13",
   "metadata": {},
   "outputs": [],
   "source": [
    "dataset.info()"
   ]
  },
  {
   "cell_type": "markdown",
   "id": "b5d26b12",
   "metadata": {},
   "source": [
    "- **Estatísticas gerais**"
   ]
  },
  {
   "cell_type": "code",
   "execution_count": null,
   "id": "4b1949ba",
   "metadata": {},
   "outputs": [],
   "source": [
    "dataset.describe()"
   ]
  },
  {
   "cell_type": "markdown",
   "id": "30b1fdf6",
   "metadata": {},
   "source": [
    "## Transformações necessárias no dataset"
   ]
  },
  {
   "cell_type": "markdown",
   "id": "50c9ce07",
   "metadata": {},
   "source": [
    "O dataset escolhido possui outliers discrepantes quanto a quantidade de nomes (coluna 'Count'), logo, será aplicado uma modificação logarítimica para diminuir esses outliers - ou seja, valores muito altos que adulteram a média e atrapalham o aprendizado do modelo. \n",
    "\n",
    "Além disso, para todas as linhas, será necessário aplicar um mapping para a feature 'Gender', pois o treinamento que será feito não permite caracteres, apenas números. Como 'Name' também é caractere, será trabalhada uma nova coluna para extrair o comprimento do nome e torná-lo uma nova feature para a predição. Será, ainda, adicionadas duas outras features relacionadas à quantidade de vogais no nome e se termina em vogal, para melhorar o desempenho da predição do modelo.\n",
    "\n",
    "Por fim, será feita uma redução do dataset, levando em consideração o count original dos nomes para não entrar uma leva de nomes muito raros, tornando o dataset um pouco mais balanceado."
   ]
  },
  {
   "cell_type": "markdown",
   "id": "6b9af17f",
   "metadata": {},
   "source": [
    "- **Redução de registros**"
   ]
  },
  {
   "cell_type": "code",
   "execution_count": null,
   "id": "89679794",
   "metadata": {},
   "outputs": [],
   "source": [
    "dataset_modified = dataset[dataset['Count'] >= 10000]"
   ]
  },
  {
   "cell_type": "markdown",
   "id": "dc120bd9",
   "metadata": {},
   "source": [
    "- **Coluna 'Gender'**"
   ]
  },
  {
   "cell_type": "code",
   "execution_count": null,
   "id": "95f5e722",
   "metadata": {},
   "outputs": [],
   "source": [
    "gender_mapper = {'F': 0, 'M': 1}\n",
    "dataset_modified['Gender'] = dataset_modified['Gender'].replace(gender_mapper)"
   ]
  },
  {
   "cell_type": "markdown",
   "id": "84b0143d",
   "metadata": {},
   "source": [
    "- **Coluna 'Count'**"
   ]
  },
  {
   "cell_type": "code",
   "execution_count": null,
   "id": "4e1acd65",
   "metadata": {},
   "outputs": [],
   "source": [
    "# log(1 + x).\n",
    "dataset_modified['Count'] = np.log1p(dataset_modified['Count'])"
   ]
  },
  {
   "cell_type": "markdown",
   "id": "3a8eba6c",
   "metadata": {},
   "source": [
    "- **Coluna 'Name'**"
   ]
  },
  {
   "cell_type": "markdown",
   "id": "d519a365",
   "metadata": {},
   "source": [
    "Criando colunas auxiliares para aumentar as probabilidades de acerto no treinamento."
   ]
  },
  {
   "cell_type": "code",
   "execution_count": null,
   "id": "f0718651-6376-4506-84c9-83a1eee880a3",
   "metadata": {},
   "outputs": [],
   "source": [
    "# Comprimento do nome\n",
    "dataset_modified['Name_len'] = dataset_modified['Name'].str.len()\n",
    "\n",
    "# Vogais (se termina com vogal e quantas vogais há no nome)\n",
    "dataset_modified['vowel_end'] = dataset_modified['Name'].str[-1].isin(list('aeiou')).astype(int)\n",
    "dataset_modified['vowel_count'] = dataset_modified['Name'].str.count(r'[aeiou]')"
   ]
  },
  {
   "cell_type": "markdown",
   "id": "ea2d6cb1",
   "metadata": {},
   "source": [
    "Para ficar apenas dados que serão interessantes no treinamento, o \"novo dataset\" terá apenas colunas com valores numéricos para uma predição binária funcional."
   ]
  },
  {
   "cell_type": "code",
   "execution_count": null,
   "id": "1f150067",
   "metadata": {},
   "outputs": [],
   "source": [
    "dataset_modified = dataset_modified.drop(columns=['Name'])"
   ]
  },
  {
   "cell_type": "markdown",
   "id": "6845e4c4",
   "metadata": {},
   "source": [
    "## Dataset modificado"
   ]
  },
  {
   "cell_type": "markdown",
   "id": "41f4067e",
   "metadata": {},
   "source": [
    "- **Quantidade de dados/Número de features**"
   ]
  },
  {
   "cell_type": "code",
   "execution_count": null,
   "id": "d3162365",
   "metadata": {},
   "outputs": [],
   "source": [
    "dataset_modified.shape"
   ]
  },
  {
   "cell_type": "markdown",
   "id": "433c86fc",
   "metadata": {},
   "source": [
    "- **Informações das features**"
   ]
  },
  {
   "cell_type": "code",
   "execution_count": null,
   "id": "a0a36686",
   "metadata": {},
   "outputs": [],
   "source": [
    "dataset_modified.info()"
   ]
  },
  {
   "cell_type": "markdown",
   "id": "a7b41903",
   "metadata": {},
   "source": [
    "- **Estatísticas gerais**"
   ]
  },
  {
   "cell_type": "code",
   "execution_count": null,
   "id": "ec2deabd",
   "metadata": {},
   "outputs": [],
   "source": [
    "dataset_modified.describe()"
   ]
  },
  {
   "cell_type": "markdown",
   "id": "09d1868b",
   "metadata": {},
   "source": [
    "## Separação do dataset\n",
    "\n",
    "Agora, será necessário separar o dataset para realizar o treinamento do modelo. O método escolhido foi o hold-out, por ser um dataset não muito grande e pela sua eficiência e padronização. "
   ]
  },
  {
   "cell_type": "markdown",
   "id": "fee65499",
   "metadata": {},
   "source": [
    "Separação do dataset com o método Holdout (80% treino; 10% validação; 10% teste)."
   ]
  },
  {
   "cell_type": "code",
   "execution_count": null,
   "id": "6b8b60c3",
   "metadata": {},
   "outputs": [],
   "source": [
    "train_dataset, temp_dataset = train_test_split(\n",
    "    dataset_modified,\n",
    "    test_size=0.2,\n",
    "    random_state=42,\n",
    "    stratify=dataset_modified['Gender']\n",
    ")\n",
    "\n",
    "validate_dataset, test_dataset = train_test_split(\n",
    "    temp_dataset,\n",
    "    test_size=0.5,\n",
    "    random_state=42,\n",
    "    stratify=temp_dataset['Gender']\n",
    ")"
   ]
  },
  {
   "cell_type": "markdown",
   "id": "002ecdfd",
   "metadata": {},
   "source": [
    "# Realizar treinamento com a AWS\n",
    "\n",
    "Agora, para o treinamento, será feito o upload dos dataset para então serem recuperados e treinados com o Amazon SageMaker."
   ]
  },
  {
   "cell_type": "markdown",
   "id": "1dae54f5",
   "metadata": {},
   "source": [
    "Preparar upload para o S3 bucket."
   ]
  },
  {
   "cell_type": "code",
   "execution_count": null,
   "id": "185b546c",
   "metadata": {},
   "outputs": [],
   "source": [
    "bucket='c171429a4447186l12305829t1w875832552787-labbucket-xer96xx1jtq5'\n",
    "\n",
    "prefix='name_gender'\n",
    "\n",
    "train_file='dataset_train.csv'\n",
    "test_file='dataset_test.csv'\n",
    "validate_file='dataset_val'\n",
    "\n",
    "s3_resource = boto3.Session().resource('s3')\n",
    "\n",
    "def upload_s3_csv(filename, folder, dataframe):\n",
    "    csv_buffer = io.StringIO()\n",
    "    dataframe.to_csv(csv_buffer, header=False, index=False )\n",
    "    s3_resource.Bucket(bucket).Object(os.path.join(prefix, folder, filename)).put(Body=csv_buffer.getvalue())"
   ]
  },
  {
   "cell_type": "markdown",
   "id": "ef406c45",
   "metadata": {},
   "source": [
    "Fazer o upload para o bucket."
   ]
  },
  {
   "cell_type": "code",
   "execution_count": null,
   "id": "aeeb23de",
   "metadata": {},
   "outputs": [],
   "source": [
    "upload_s3_csv(train_file, 'train', train_dataset)\n",
    "upload_s3_csv(test_file, 'test', test_dataset)\n",
    "upload_s3_csv(validate_file, 'validate', validate_dataset)"
   ]
  },
  {
   "cell_type": "markdown",
   "id": "60ae0cd8",
   "metadata": {},
   "source": [
    "Utilizar o Amazon SageMaker para gerar as intâncias de treinamento."
   ]
  },
  {
   "cell_type": "code",
   "execution_count": null,
   "id": "a4d921a6",
   "metadata": {},
   "outputs": [],
   "source": [
    "container = retrieve('xgboost', boto3.Session().region_name, '1.0-1')\n",
    "\n",
    "hyperparams = {\"num_round\": \"42\",\n",
    "               \"eval_metric\": \"auc\",\n",
    "               \"objective\": \"binary:logistic\"}\n",
    "\n",
    "s3_output_location = \"s3://{}/{}/output/\".format(bucket, prefix)\n",
    "xgb_model = sagemaker.estimator.Estimator(container,\n",
    "                                          sagemaker.get_execution_role(),\n",
    "                                          instance_count=1,\n",
    "                                          instance_type='ml.m4.xlarge',\n",
    "                                          output_path=s3_output_location,\n",
    "                                          hyperparameters=hyperparams,\n",
    "                                          sagemaker_session=sagemaker.Session())\n",
    "\n",
    "train_channel = sagemaker.inputs.TrainingInput(\n",
    "    \"s3://{}/{}/train/{}\".format(bucket, prefix, train_file),\n",
    "    content_type='text/csv')\n",
    "\n",
    "validate_channel = sagemaker.inputs.TrainingInput(\n",
    "    \"s3://{}/{}/validate/{}\".format(bucket, prefix, validate_file),\n",
    "    content_type='text/csv')\n",
    "\n",
    "data_channels = {'train': train_channel, 'validation': validate_channel}\n",
    "\n",
    "xgb_model.fit(inputs=data_channels, logs=False)"
   ]
  },
  {
   "cell_type": "markdown",
   "id": "7bf58964",
   "metadata": {},
   "source": [
    "Hospedar modelo treinado."
   ]
  },
  {
   "cell_type": "code",
   "execution_count": null,
   "id": "34812a21",
   "metadata": {},
   "outputs": [],
   "source": [
    "xgb_predictor = xgb_model.deploy(initial_instance_count=1,\n",
    "                serializer = sagemaker.serializers.CSVSerializer(),\n",
    "                instance_type='ml.m4.xlarge')"
   ]
  },
  {
   "cell_type": "markdown",
   "id": "4f283d41",
   "metadata": {},
   "source": [
    "# Avaliação do Modelo\n",
    "\n",
    "Criando intâncias para desenvolver métricas do modelo."
   ]
  },
  {
   "cell_type": "code",
   "execution_count": null,
   "id": "3568331c",
   "metadata": {},
   "outputs": [],
   "source": [
    "batch_X = test_dataset.iloc[:,1:]\n",
    "\n",
    "batch_X_file='batch-in.csv'\n",
    "upload_s3_csv(batch_X_file, 'batch-in', batch_X)\n",
    "\n",
    "batch_output = \"s3://{}/{}/batch-out/\".format(bucket,prefix)\n",
    "batch_input = \"s3://{}/{}/batch-in/{}\".format(bucket,prefix,batch_X_file)\n",
    "\n",
    "xgb_transformer = xgb_model.transformer(instance_count=1,\n",
    "                                        instance_type='ml.m4.xlarge',\n",
    "                                        strategy='MultiRecord',\n",
    "                                        assemble_with='Line',\n",
    "                                        output_path=batch_output)\n",
    "\n",
    "xgb_transformer.transform(data=batch_input,\n",
    "                          data_type='S3Prefix',\n",
    "                          content_type='text/csv',\n",
    "                          split_type='Line')\n",
    "xgb_transformer.wait()\n",
    "\n",
    "s3 = boto3.client('s3')\n",
    "obj = s3.get_object(Bucket=bucket, Key=\"{}/batch-out/{}\".format(prefix,'batch-in.csv.out'))\n",
    "target_predicted = pd.read_csv(io.BytesIO(obj['Body'].read()),names=['Gender'])"
   ]
  },
  {
   "cell_type": "markdown",
   "id": "a57a5c65",
   "metadata": {},
   "source": [
    "A probabilidade deve ser de 0 ou 1, então será feito uma conversão na probabilidade (acima de 50% já é considerado 1, ou seja, Masculino)"
   ]
  },
  {
   "cell_type": "code",
   "execution_count": null,
   "id": "fb315fea",
   "metadata": {},
   "outputs": [],
   "source": [
    "def binary_convert(x):\n",
    "    threshold = 0.5\n",
    "    if x > threshold:\n",
    "        return 1\n",
    "    else:\n",
    "        return 0\n",
    "\n",
    "target_predicted_binary = target_predicted['Gender'].apply(binary_convert)"
   ]
  },
  {
   "cell_type": "markdown",
   "id": "dcfcf376",
   "metadata": {},
   "source": [
    "## Métricas do modelo"
   ]
  },
  {
   "cell_type": "markdown",
   "id": "333dbb57",
   "metadata": {},
   "source": [
    "### Taxas verdadeiros positivos e verdadeiros negativos\n",
    "\n",
    "- **Verdadeiros Positivos (TPR / Recall):** Proporção de casos positivos corretos sobre todos os positivos reais.<br>\n",
    "*Ex: percentual de “Masculino” corretamente identificado como Masculino.*\n",
    "\n",
    "\n",
    "- **Verdadeiros Negativos (TNR / Specificity):** Proporção de casos negativos corretos sobre todos os negativos reais.<br>\n",
    "*Ex: percentual de “Feminino” corretamente identificado como Feminino.*"
   ]
  },
  {
   "cell_type": "code",
   "execution_count": null,
   "id": "d7daf712",
   "metadata": {},
   "outputs": [],
   "source": [
    "TPR  = float(TP)/(TP+FN)*100\n",
    "print(f\"Sensibilidade: {TPR}%\")"
   ]
  },
  {
   "cell_type": "code",
   "execution_count": null,
   "id": "6fea73f4",
   "metadata": {},
   "outputs": [],
   "source": [
    "TNR  = float(TN)/(TN+FP)*100\n",
    "print(f\"Especificidade: {TNR}%\")"
   ]
  },
  {
   "cell_type": "markdown",
   "id": "992b9599",
   "metadata": {},
   "source": [
    "### Valores preditivos positivos e negativos (Precisão)\n",
    "\n",
    "- **Precisão (PPV):** Proporção de predições positivas corretas sobre todas as predições positivas.<br>\n",
    "*Ex: dos nomes que o modelo previu como “Masculino”, quantos realmente eram Masculino.*\n",
    "\n",
    "- **Valor Preditivo Negativo (NPV):** Proporção de predições negativas corretas sobre todas as predições negativas.<br>\n",
    "*Ex: dos nomes que o modelo previu como “Feminino”, quantos realmente eram Feminino.*"
   ]
  },
  {
   "cell_type": "code",
   "execution_count": null,
   "id": "9b92228d",
   "metadata": {},
   "outputs": [],
   "source": [
    "positive = float(TP)/(TP+FP)*100\n",
    "print(f\"Precisão positiva: {positive}%\") "
   ]
  },
  {
   "cell_type": "code",
   "execution_count": null,
   "id": "adee2c57",
   "metadata": {},
   "outputs": [],
   "source": [
    "negative = float(TN)/(TN+FN)*100\n",
    "print(f\"Precisão negativa: {negative}%\") "
   ]
  },
  {
   "cell_type": "markdown",
   "id": "ab580505",
   "metadata": {},
   "source": [
    "### Taxas falsos positivos e falsos negativos\n",
    "\n",
    "- **Falso Positivo Rate (FPR):** Proporção de negativos classificados incorretamente como positivos.\n",
    "\n",
    "- **Falso Negativo Rate (FNR):** Proporção de positivos classificados incorretamente como negativos."
   ]
  },
  {
   "cell_type": "code",
   "execution_count": null,
   "id": "7254872d",
   "metadata": {},
   "outputs": [],
   "source": [
    "FPR = float(FP)/(FP+TN)*100\n",
    "print(f\"Falso positivo: {FPR}%\") "
   ]
  },
  {
   "cell_type": "code",
   "execution_count": null,
   "id": "ba39d4ff",
   "metadata": {},
   "outputs": [],
   "source": [
    "FNR = float(FN)/(TP+FN)*100\n",
    "print(f\"Falso negativo: {FNR}%\") "
   ]
  },
  {
   "cell_type": "markdown",
   "id": "5bf1ff37",
   "metadata": {},
   "source": [
    "### Taxa de descobertas falsas (FDR)\n",
    "\n",
    "**FDR:** Proporção de predições positivas que estão incorretas.<br>\n",
    "*Ex: se o modelo previu “Masculino”, qual a chance de estar errado.*"
   ]
  },
  {
   "cell_type": "code",
   "execution_count": null,
   "id": "08210b88",
   "metadata": {},
   "outputs": [],
   "source": [
    "FDR = float(FN)/(TP+FN)*100\n",
    "print(f\"Taxa de descobertas falsas: {FDR}%\") "
   ]
  },
  {
   "cell_type": "markdown",
   "id": "f938d5e1",
   "metadata": {},
   "source": [
    "### Acurácia e Matriz de Confusão\n",
    "\n",
    "Capturando todas as linhas do dataset de teste para verificar a precisão do modelo."
   ]
  },
  {
   "cell_type": "code",
   "execution_count": null,
   "id": "b43a87e8",
   "metadata": {},
   "outputs": [],
   "source": [
    "test_labels = test_dataset.iloc[:,0]"
   ]
  },
  {
   "cell_type": "markdown",
   "id": "110ac30a",
   "metadata": {},
   "source": [
    "**Matriz de Confusão**\n",
    "\n",
    "É uma tabela que mostra detalhadamente onde o modelo acertou ou errou.\n",
    "\n",
    "As **linhas** representam o gênero real, e as **colunas** representam o gênero previsto pelo modelo."
   ]
  },
  {
   "cell_type": "code",
   "execution_count": null,
   "id": "7d8120c1",
   "metadata": {},
   "outputs": [],
   "source": [
    "matrix = confusion_matrix(test_labels, target_predicted_binary)\n",
    "df_confusion = pd.DataFrame(matrix, index=['Feminino Real','Masculino Real'],columns=['Previsto Feminino','Previsto Masculino'])\n",
    "\n",
    "df_confusion"
   ]
  },
  {
   "cell_type": "markdown",
   "id": "9338b9d7",
   "metadata": {},
   "source": [
    "**Acurácia**\n",
    "\n",
    "É a proporção de predições corretas que o modelo fez em relação a todas as tentativas.\n",
    "\n",
    "A acurácia mostra quantos nomes ele acertou em %."
   ]
  },
  {
   "cell_type": "code",
   "execution_count": null,
   "id": "5ed8844f",
   "metadata": {},
   "outputs": [],
   "source": [
    "ACC = float(TP+TN)/(TP+FP+FN+TN)*100\n",
    "print(f\"Acurácia: {ACC}%\")"
   ]
  },
  {
   "cell_type": "markdown",
   "id": "c29dab32",
   "metadata": {},
   "source": [
    "### AUC-ROC\n",
    "\n",
    "Cálculo da área sob a curva característica de operação do receptor (AUC-ROC).\n",
    "\n",
    "- A ROC é uma curva de probabilidade.\n",
    "- A AUC informa o quanto o modelo pode fazer a distinção entre os labels. "
   ]
  },
  {
   "cell_type": "code",
   "execution_count": null,
   "id": "de88521d",
   "metadata": {},
   "outputs": [],
   "source": [
    "fpr, tpr, thresholds = roc_curve(test_labels, target_predicted)\n",
    "roc_auc = auc(fpr, tpr)\n",
    "\n",
    "plt.figure()\n",
    "plt.plot(fpr, tpr, label='ROC curve (area = %0.2f)' % (roc_auc))\n",
    "plt.plot([0, 1], [0, 1], 'k--')\n",
    "plt.xlim([0.0, 1.0])\n",
    "plt.ylim([0.0, 1.05])\n",
    "plt.xlabel('False Positive Rate')\n",
    "plt.ylabel('True Positive Rate')\n",
    "plt.title('Receiver operating characteristic')\n",
    "plt.legend(loc=\"lower right\")\n",
    " \n",
    "# Eixo x do thresholds\n",
    "ax2 = plt.gca().twinx()\n",
    "ax2.plot(fpr, thresholds, markeredgecolor='r',linestyle='dashed', color='r')\n",
    "ax2.set_ylabel('Threshold',color='r')\n",
    "ax2.set_ylim([thresholds[-1],thresholds[0]])\n",
    "ax2.set_xlim([fpr[0],fpr[-1]])\n",
    "\n",
    "print(plt.figure())"
   ]
  },
  {
   "cell_type": "markdown",
   "id": "49979729",
   "metadata": {},
   "source": [
    "# Realizar Predições\n",
    "\n",
    "Agora, para realizar a predição, é necessário escolher uma linha do dataset de teste."
   ]
  },
  {
   "cell_type": "code",
   "execution_count": null,
   "id": "de950935",
   "metadata": {},
   "outputs": [],
   "source": [
    "row = test_dataset.iloc[0:1,1:] #linha 1\n",
    "row.head()"
   ]
  },
  {
   "cell_type": "markdown",
   "id": "d94ca1bc",
   "metadata": {},
   "source": [
    "Realizar predição."
   ]
  },
  {
   "cell_type": "code",
   "execution_count": null,
   "id": "72e42f8f",
   "metadata": {
    "scrolled": true
   },
   "outputs": [],
   "source": [
    "batch_X_csv_buffer = io.StringIO()\n",
    "\n",
    "row.to_csv(batch_X_csv_buffer, header=False, index=False)\n",
    "test_row = batch_X_csv_buffer.getvalue()\n",
    "\n",
    "xgb_predictor.content_type = 'text/csv'\n",
    "xgb_predictor.predict(test_row)"
   ]
  },
  {
   "cell_type": "markdown",
   "id": "1db59a5c",
   "metadata": {},
   "source": [
    "Comparando resultado da predição. Caso o resultado seja maior que 50%, então, é Masculino."
   ]
  },
  {
   "cell_type": "code",
   "execution_count": null,
   "id": "ffea3db4",
   "metadata": {},
   "outputs": [],
   "source": [
    "row_test = test_dataset.iloc[0:1] #linha escolhida anteriormente (verificar a coluna gênero)\n",
    "row_test.head()"
   ]
  },
  {
   "cell_type": "markdown",
   "id": "0af6823f",
   "metadata": {},
   "source": [
    "Encerrar SageMaker."
   ]
  },
  {
   "cell_type": "code",
   "execution_count": null,
   "id": "d1fbc734",
   "metadata": {},
   "outputs": [],
   "source": [
    "xgb_predictor.delete_endpoint(delete_endpoint_config=True)"
   ]
  }
 ],
 "metadata": {
  "kernelspec": {
   "display_name": "Python 3",
   "language": "python",
   "name": "python3"
  },
  "language_info": {
   "codemirror_mode": {
    "name": "ipython",
    "version": 3
   },
   "file_extension": ".py",
   "mimetype": "text/x-python",
   "name": "python",
   "nbconvert_exporter": "python",
   "pygments_lexer": "ipython3",
   "version": "3.13.9"
  }
 },
 "nbformat": 4,
 "nbformat_minor": 5
}
